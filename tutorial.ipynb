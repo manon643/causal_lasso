{
 "cells": [
  {
   "cell_type": "markdown",
   "metadata": {},
   "source": [
    "# Causal Lasso"
   ]
  },
  {
   "cell_type": "markdown",
   "metadata": {},
   "source": [
    "This notebook provides a quick code demo for \"A Bregman Method for Structure Learning on Sparse Directed Acyclic Graphs\""
   ]
  },
  {
   "cell_type": "code",
   "execution_count": 1,
   "metadata": {
    "pycharm": {
     "name": "#%%\n"
    }
   },
   "outputs": [
    {
     "name": "stderr",
     "output_type": "stream",
     "text": [
      "/Users/manonromain/anaconda3/lib/python3.7/importlib/_bootstrap.py:219: RuntimeWarning: numpy.ufunc size changed, may indicate binary incompatibility. Expected 192 from C header, got 216 from PyObject\n",
      "  return f(*args, **kwds)\n",
      "/Users/manonromain/anaconda3/lib/python3.7/importlib/_bootstrap.py:219: RuntimeWarning: numpy.ufunc size changed, may indicate binary incompatibility. Expected 192 from C header, got 216 from PyObject\n",
      "  return f(*args, **kwds)\n"
     ]
    }
   ],
   "source": [
    "import numpy as np\n",
    "import scipy\n",
    "import matplotlib.pyplot as plt\n",
    "import seaborn as sns\n",
    "import networkx as nx\n",
    "\n",
    "from graph_tools.data_gen import gen_graph, sample_lin_scms\n",
    "from causal_lasso.solver import CLSolver\n",
    "from graph_tools.metrics import compare_graphs"
   ]
  },
  {
   "cell_type": "markdown",
   "metadata": {},
   "source": [
    "### Synthetic graph generation "
   ]
  },
  {
   "cell_type": "markdown",
   "metadata": {},
   "source": [
    "We generate a synthetic graph $G$ (here a Scale-Free graph with 50 nodes)"
   ]
  },
  {
   "cell_type": "code",
   "execution_count": null,
   "metadata": {
    "pycharm": {
     "name": "#%%\n"
    }
   },
   "outputs": [],
   "source": [
    "graph_type = \"scale-free\" # choose between \"scale-free\" and \"erdos-renyi\"\n",
    "n = 50 # number of nodes\n",
    "noise_type = \"gaussian\" # or \"gumbel\" or \"exp\"\n",
    "G, adj_matrix = gen_graph(graph_type, n, mean_deg=4)"
   ]
  },
  {
   "cell_type": "code",
   "execution_count": null,
   "metadata": {
    "pycharm": {
     "name": "#%%\n"
    }
   },
   "outputs": [],
   "source": [
    "nx.draw(G)"
   ]
  },
  {
   "cell_type": "markdown",
   "metadata": {},
   "source": [
    "### Synthetic data generation"
   ]
  },
  {
   "cell_type": "markdown",
   "metadata": {},
   "source": [
    "We sample a weighted adjacency matrix `w_opt` and $m=1000$ i.i.d. samples distributed according to the SCM:\n",
    "\n",
    "$$X = XW^* + E$$\n",
    "\n",
    "where $X\\in\\mathbb{R}^{m\\times n}$ is the sample matrix, $W^*\\in\\mathbb{R}^{n\\times n}$ is the adjacency matrix of graph $G$ and $E \\sim^{\\text{i.i.d.}} \\exp(1)$ (resp. $\\mathcal{N}(0, 1)$ or $\\mathrm{Gumbel}(0, 1)$"
   ]
  },
  {
   "cell_type": "code",
   "execution_count": null,
   "metadata": {
    "pycharm": {
     "name": "#%%\n"
    }
   },
   "outputs": [],
   "source": [
    "X, w_opt, _ = sample_lin_scms(graph_type, noise_type, adj_matrix, nb_samples=1000, weighted=True)"
   ]
  },
  {
   "cell_type": "markdown",
   "metadata": {},
   "source": [
    "## Learning"
   ]
  },
  {
   "cell_type": "markdown",
   "metadata": {},
   "source": [
    "We now use our algorithm to recover the adjacency matrix from $X$."
   ]
  },
  {
   "cell_type": "code",
   "execution_count": null,
   "metadata": {
    "pycharm": {
     "name": "#%%\n"
    }
   },
   "outputs": [],
   "source": [
    "alg = CLSolver(version=\"gen\", dagness_exp=0.3/n, dagness_pen=1e-1, l1_pen=1e-2, eps=1e-6, max_iter=1000,\n",
    "                    logging=True, mosek=True)\n",
    "%time Wk = alg.fit(X)"
   ]
  },
  {
   "cell_type": "code",
   "execution_count": null,
   "metadata": {
    "pycharm": {
     "name": "#%%\n"
    }
   },
   "outputs": [],
   "source": [
    "compare_graphs(adj_matrix, np.abs(Wk)>=0.5)"
   ]
  },
  {
   "cell_type": "markdown",
   "metadata": {},
   "source": [
    "#### NOTEARS"
   ]
  },
  {
   "cell_type": "markdown",
   "metadata": {},
   "source": [
    "To run NOTEARS, download the repository from https://github.com/xunzheng/notears in the same folder as this notebook. "
   ]
  },
  {
   "cell_type": "code",
   "execution_count": 13,
   "metadata": {},
   "outputs": [],
   "source": [
    "# Importing no tears if in parent folder\n",
    "try:\n",
    "    import os,sys,inspect\n",
    "    currentdir = os.path.dirname(os.path.abspath(inspect.getfile(inspect.currentframe())))\n",
    "    parentdir = os.path.dirname(currentdir)\n",
    "    sys.path.insert(0,parentdir) \n",
    "\n",
    "    from notears.notears.linear import notears_linear\n",
    "    run_notears = True\n",
    "except ImportError:\n",
    "    run_notears = False"
   ]
  },
  {
   "cell_type": "code",
   "execution_count": null,
   "metadata": {
    "pycharm": {
     "name": "#%%\n"
    }
   },
   "outputs": [
    {
     "data": {
      "application/vnd.jupyter.widget-view+json": {
       "model_id": "a26decde27be445885b2797d690d0acd",
       "version_major": 2,
       "version_minor": 0
      },
      "text/plain": [
       "HBox(children=(HTML(value='Notears'), FloatProgress(value=0.0), HTML(value='')))"
      ]
     },
     "metadata": {},
     "output_type": "display_data"
    },
    {
     "name": "stdout",
     "output_type": "stream",
     "text": [
      "\n",
      "\n",
      "\n"
     ]
    }
   ],
   "source": [
    "if run_notears:\n",
    "    W_notears = notears_linear(X, 1e-5, \"l2\")\n",
    "    compare_graphs(adj_matrix, np.abs(W_notears)>=0.5)"
   ]
  },
  {
   "cell_type": "markdown",
   "metadata": {},
   "source": [
    "## Extra visualisations"
   ]
  },
  {
   "cell_type": "markdown",
   "metadata": {},
   "source": [
    "We provide extra visualisations that could be of interest to the reader. The first one shows convergence of different part of the objective with iteration of our algorithm. "
   ]
  },
  {
   "cell_type": "code",
   "execution_count": null,
   "metadata": {
    "pycharm": {
     "name": "#%%\n"
    }
   },
   "outputs": [],
   "source": [
    "logging = alg.log_dict"
   ]
  },
  {
   "cell_type": "code",
   "execution_count": null,
   "metadata": {
    "pycharm": {
     "name": "#%%\n"
    }
   },
   "outputs": [],
   "source": [
    "values_l2error = logging[\"l2_error\"]\n",
    "values_l1pen = logging[\"l1_val\"] \n",
    "values_dagness = logging[\"dag_constraint\"]\n",
    "values_obj = values_l2error + logging[\"dagness_pen\"] * values_dagness + logging[\"l1_pen\"] * values_l1pen\n",
    "logging[\"obj\"] = values_obj\n",
    "values_change_support = logging[\"nb_change_support\"]\n",
    "\n",
    "fig, ax1 = plt.subplots()\n",
    "\n",
    "color = 'tab:red'\n",
    "l1 = ax1.plot(values_l1pen, label = \"Sparcity = $\\|A\\|_1$\", color=color)\n",
    "ax1.tick_params(axis='y', labelcolor=color)\n",
    "ax1.set_yscale(\"log\")\n",
    "\n",
    "ax2 = ax1.twinx()  # instantiate a second axes that shares the same x-axis\n",
    "\n",
    "color = 'tab:blue'\n",
    "l2 = ax2.plot(values_dagness, label=\"DAGness = $\\mathrm{Tr}((I+\\\\beta A)^n)$\", color=color)\n",
    "ax2.tick_params(axis='y', labelcolor=color)\n",
    "ax2.set_yscale(\"log\")\n",
    "\n",
    "ax3 = ax1.twinx()  # instantiate a second axes that shares the same x-axis\n",
    "color = 'tab:green'\n",
    "l3 = ax3.plot(values_l2error, color=color, label='$L_2\\mathrm{\\,error\\,=\\,}1/m||X (I-W)||^2$')\n",
    "ax3.tick_params(axis='y', labelcolor=color)\n",
    "ax3.set_yscale(\"log\")\n",
    "\n",
    "ax4 = ax1.twinx()\n",
    "color = 'tab:grey'\n",
    "l4 = ax4.plot(values_obj, color=color, label='Objective = $f(x)+g(x)$')\n",
    "ax4.tick_params(axis='y', labelcolor=color)\n",
    "ax4.set_yscale(\"log\")\n",
    "\n",
    "ax5 = ax1.twinx()\n",
    "color = 'tab:pink'\n",
    "l5 = ax5.plot(values_change_support, color=color, label='Number of changes in support')\n",
    "ax5.tick_params(axis='y', labelcolor=color)\n",
    "ax5.set_yscale(\"log\")\n",
    "\n",
    "lines = l1 + l2 + l3 + l4 + l5\n",
    "labs = [l.get_label() for l in lines]\n",
    "ax1.legend(lines, labs, ncol=2,  bbox_to_anchor=(1, 1.4))\n",
    "plt.title(\"$\\mathrm{Ours}^+$ convergence\");"
   ]
  },
  {
   "cell_type": "markdown",
   "metadata": {},
   "source": [
    "The second one is a mere visualisation of the output as a heatmap."
   ]
  },
  {
   "cell_type": "code",
   "execution_count": null,
   "metadata": {
    "pycharm": {
     "name": "#%%\n"
    }
   },
   "outputs": [],
   "source": [
    "fig, axs = plt.subplots(1, 2, figsize=(12, 4))\n",
    "sns.heatmap(w_opt, center=0, ax=axs[0]); axs[0].set_xticks([]);  axs[0].set_yticks([]); \n",
    "axs[0].set_title(\"Ground truth adjacency matrix\");\n",
    "sns.heatmap(Wk, center=0, ax=axs[1]); axs[1].set_xticks([]);  axs[1].set_yticks([]); \n",
    "axs[1].set_title(\"Output adjacency matrix\");"
   ]
  },
  {
   "cell_type": "markdown",
   "metadata": {},
   "source": [
    "The last one demonstrates the convergence of the matrix support with iterations, as we go down, our algorithm progresses towards the correct graph, the last line (light blue) being the ground truth adjacency matrix"
   ]
  },
  {
   "cell_type": "code",
   "execution_count": null,
   "metadata": {
    "pycharm": {
     "name": "#%%\n"
    }
   },
   "outputs": [],
   "source": [
    "n_iter = len(logging[\"support\"])\n",
    "plt.figure(figsize=(18,5))\n",
    "sns.heatmap(np.array(np.append(np.int32(logging[\"support\"]),\n",
    "                               -np.reshape(adj_matrix.flatten(), (1,n*n)), axis=0)),\n",
    "           center=0, cbar=False); \n",
    "plt.xticks([]); plt.yticks(np.arange(0, n_iter+1, step=n_iter//10), np.arange(0, n_iter+1, step=n_iter//10));\n",
    "plt.xlim([0, 500])\n",
    "plt.title(\"Convergence of the support\")\n",
    "plt.xlabel(\"Coefficients of matrix 0 to 500\");\n",
    "plt.ylabel(\"Number of iterations\");"
   ]
  },
  {
   "cell_type": "markdown",
   "metadata": {},
   "source": [
    "Thank you!"
   ]
  }
 ],
 "metadata": {
  "kernelspec": {
   "display_name": "Python 3",
   "language": "python",
   "name": "python3"
  },
  "language_info": {
   "codemirror_mode": {
    "name": "ipython",
    "version": 3
   },
   "file_extension": ".py",
   "mimetype": "text/x-python",
   "name": "python",
   "nbconvert_exporter": "python",
   "pygments_lexer": "ipython3",
   "version": "3.7.7"
  },
  "pycharm": {
   "stem_cell": {
    "cell_type": "raw",
    "metadata": {
     "collapsed": false
    },
    "source": []
   }
  }
 },
 "nbformat": 4,
 "nbformat_minor": 2
}
